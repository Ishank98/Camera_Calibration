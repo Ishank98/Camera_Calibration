{
 "cells": [
  {
   "cell_type": "markdown",
   "metadata": {},
   "source": [
    "# Importing Helper Libraries"
   ]
  },
  {
   "cell_type": "code",
   "execution_count": 111,
   "metadata": {},
   "outputs": [],
   "source": [
    "import numpy as np\n",
    "import glob\n",
    "import cv2"
   ]
  },
  {
   "cell_type": "markdown",
   "metadata": {},
   "source": [
    "*Here, objp are world points and we are assuming that only camera is moving along z axis while our images are at z=0 and we considering are world coordinates to be (1,0),(1,1) etc because we didnt take that images and we cant really say about the size of boxes*"
   ]
  },
  {
   "cell_type": "code",
   "execution_count": 112,
   "metadata": {},
   "outputs": [],
   "source": [
    "objp = np.zeros((6*8,3),np.float32)\n",
    "objp[:,:2] = np.mgrid[0:8, 0:6].T.reshape(-1,2)\n",
    "#objp"
   ]
  },
  {
   "cell_type": "markdown",
   "metadata": {},
   "source": [
    "*objpoints will store objp of every image and imgpoints will store 2D point of corners*"
   ]
  },
  {
   "cell_type": "code",
   "execution_count": 113,
   "metadata": {},
   "outputs": [],
   "source": [
    "objpoints = []\n",
    "imgpoints = []"
   ]
  },
  {
   "cell_type": "markdown",
   "metadata": {},
   "source": [
    "*Loading all the image data*"
   ]
  },
  {
   "cell_type": "code",
   "execution_count": 114,
   "metadata": {},
   "outputs": [],
   "source": [
    "images = glob.glob('*.jpg')"
   ]
  },
  {
   "cell_type": "code",
   "execution_count": 115,
   "metadata": {},
   "outputs": [],
   "source": [
    "# termination criteria\n",
    "criteria = (cv2.TERM_CRITERIA_EPS + cv2.TERM_CRITERIA_MAX_ITER, 30, 0.001)"
   ]
  },
  {
   "cell_type": "code",
   "execution_count": 116,
   "metadata": {},
   "outputs": [],
   "source": [
    "i=0\n",
    "for pic in images:\n",
    "    img = cv2.imread(pic)\n",
    "    #As Opencv always load an image in 3c mode\n",
    "    gray = cv2.cvtColor(img, cv2.COLOR_BGR2GRAY)\n",
    "    #we are looking are 8*6 pattern that is measured from (left to right and top to bottom)\n",
    "    ret, corners = cv2.findChessboardCorners(gray,(8,6),None)\n",
    "    #if pattern is found\n",
    "    if ret == True:\n",
    "        #world points are same for every image\n",
    "        objpoints.append(objp)\n",
    "        #to improve accuracy we use cornerSubPix\n",
    "        corners2 = cv2.cornerSubPix(gray,corners,(11,11),(-1,-1),criteria)\n",
    "        imgpoints.append(corners2)\n",
    "        \n",
    "        cv2.drawChessboardCorners(img,(8,6),corners2,ret)\n",
    "        #cv2.imshow('img',img)\n",
    "        #cv2.imwrite('mis-aligned points/'+str(i)+'.png',img)\n",
    "        i=i+1\n",
    "        cv2.waitKey(500)\n",
    "        \n",
    "cv2.destroyAllWindows()        "
   ]
  },
  {
   "cell_type": "markdown",
   "metadata": {},
   "source": [
    "*using calibrateCamera to get camera matrix, distortion coefficients, rotationa and translation vectors \n",
    "*"
   ]
  },
  {
   "cell_type": "code",
   "execution_count": 118,
   "metadata": {},
   "outputs": [],
   "source": [
    "ret, mtx, dist, rvecs, tvecs = cv2.calibrateCamera(objpoints, imgpoints, gray.shape[::-1],None,None)"
   ]
  },
  {
   "cell_type": "markdown",
   "metadata": {},
   "source": [
    "*camera matrix*"
   ]
  },
  {
   "cell_type": "code",
   "execution_count": 55,
   "metadata": {},
   "outputs": [
    {
     "data": {
      "text/plain": [
       "array([[560.03479335,   0.        , 651.08435453],\n",
       "       [  0.        , 561.09378513, 498.91382943],\n",
       "       [  0.        ,   0.        ,   1.        ]])"
      ]
     },
     "execution_count": 55,
     "metadata": {},
     "output_type": "execute_result"
    }
   ],
   "source": [
    "mtx"
   ]
  },
  {
   "cell_type": "markdown",
   "metadata": {},
   "source": [
    "*distortion coefficients\n",
    "*"
   ]
  },
  {
   "cell_type": "code",
   "execution_count": 56,
   "metadata": {},
   "outputs": [
    {
     "data": {
      "text/plain": [
       "array([[-2.32599214e-01,  6.15472344e-02, -2.67087263e-05,\n",
       "         6.45615305e-05, -7.52197335e-03]])"
      ]
     },
     "execution_count": 56,
     "metadata": {},
     "output_type": "execute_result"
    }
   ],
   "source": [
    "dist"
   ]
  },
  {
   "cell_type": "markdown",
   "metadata": {},
   "source": [
    "rotational vector\n"
   ]
  },
  {
   "cell_type": "code",
   "execution_count": 120,
   "metadata": {},
   "outputs": [
    {
     "data": {
      "text/plain": [
       "[array([[ 0.09245004],\n",
       "        [-0.32425404],\n",
       "        [-0.02476408]]), array([[ 0.11257693],\n",
       "        [-0.18638032],\n",
       "        [-0.03803782]]), array([[ 0.05107917],\n",
       "        [ 0.02652539],\n",
       "        [-0.0108669 ]]), array([[ 0.14061294],\n",
       "        [-0.03905713],\n",
       "        [ 0.00323482]]), array([[0.0889956 ],\n",
       "        [0.28740177],\n",
       "        [0.00589946]]), array([[0.14797407],\n",
       "        [0.191226  ],\n",
       "        [0.0373641 ]]), array([[ 0.29524145],\n",
       "        [-0.39660877],\n",
       "        [-0.20160862]]), array([[ 0.45347717],\n",
       "        [-0.05698721],\n",
       "        [-0.0100865 ]]), array([[ 0.34123001],\n",
       "        [-0.02711283],\n",
       "        [-0.01558953]]), array([[ 0.11158349],\n",
       "        [-0.05228656],\n",
       "        [-0.01678513]]), array([[ 0.15537091],\n",
       "        [-0.33451795],\n",
       "        [-0.05601135]]), array([[ 0.0886005 ],\n",
       "        [-0.10619292],\n",
       "        [-0.05934578]]), array([[ 0.1087799 ],\n",
       "        [-0.04839409],\n",
       "        [ 0.0224824 ]]), array([[0.291949  ],\n",
       "        [0.19551679],\n",
       "        [0.03368948]]), array([[0.23308363],\n",
       "        [0.08409935],\n",
       "        [0.02255398]]), array([[ 0.18394582],\n",
       "        [ 0.03691433],\n",
       "        [-0.01835307]]), array([[ 0.26534742],\n",
       "        [-0.17449807],\n",
       "        [-0.04849303]]), array([[ 0.31911225],\n",
       "        [ 0.10950386],\n",
       "        [-0.06049351]]), array([[ 0.38185021],\n",
       "        [ 0.0958219 ],\n",
       "        [-0.04408593]]), array([[0.24416362],\n",
       "        [0.19782214],\n",
       "        [0.0312076 ]]), array([[ 0.37220717],\n",
       "        [-0.37430973],\n",
       "        [-0.12526132]]), array([[0.28713994],\n",
       "        [0.22243601],\n",
       "        [0.01045936]]), array([[ 0.2664995 ],\n",
       "        [ 0.01775415],\n",
       "        [-0.01499744]]), array([[0.30170298],\n",
       "        [0.10788818],\n",
       "        [0.01122756]]), array([[ 0.13147261],\n",
       "        [-0.06046883],\n",
       "        [-0.00063641]]), array([[ 0.21014102],\n",
       "        [-0.31280795],\n",
       "        [-0.01490331]]), array([[ 0.17306647],\n",
       "        [-0.31554784],\n",
       "        [-0.03449297]]), array([[0.14018019],\n",
       "        [0.13832509],\n",
       "        [0.00976317]]), array([[0.1747497 ],\n",
       "        [0.12264543],\n",
       "        [0.02631535]]), array([[ 0.20874552],\n",
       "        [-0.01286544],\n",
       "        [-0.01788042]]), array([[ 0.1224622 ],\n",
       "        [-0.70383807],\n",
       "        [-0.12295579]]), array([[-0.01985393],\n",
       "        [ 0.51244985],\n",
       "        [ 0.02914648]]), array([[ 0.14703738],\n",
       "        [-0.96403827],\n",
       "        [-0.29187228]]), array([[ 0.12035073],\n",
       "        [-0.66176364],\n",
       "        [-0.08430322]]), array([[ 0.17039223],\n",
       "        [ 0.45368447],\n",
       "        [-0.00701818]])]"
      ]
     },
     "execution_count": 120,
     "metadata": {},
     "output_type": "execute_result"
    }
   ],
   "source": [
    "rvecs"
   ]
  },
  {
   "cell_type": "markdown",
   "metadata": {},
   "source": [
    "*translation vectors*"
   ]
  },
  {
   "cell_type": "code",
   "execution_count": 119,
   "metadata": {},
   "outputs": [
    {
     "data": {
      "text/plain": [
       "[array([[-1.56003889],\n",
       "        [-2.78513431],\n",
       "        [ 4.06262328]]), array([[-2.09893379],\n",
       "        [-2.81345634],\n",
       "        [ 5.96989681]]), array([[-3.49897658],\n",
       "        [-2.74799903],\n",
       "        [ 3.71724497]]), array([[-3.42823303],\n",
       "        [-2.17382591],\n",
       "        [ 3.44125079]]), array([[-4.02708799],\n",
       "        [-2.47004886],\n",
       "        [ 4.56779094]]), array([[-4.57039436],\n",
       "        [-1.98612895],\n",
       "        [ 4.40899883]]), array([[-2.26235502],\n",
       "        [-1.45869478],\n",
       "        [ 2.56391619]]), array([[-3.12454934],\n",
       "        [-0.99465199],\n",
       "        [ 2.70916931]]), array([[-3.05722359],\n",
       "        [-1.41189527],\n",
       "        [ 2.69052169]]), array([[-3.59692948],\n",
       "        [-2.69278253],\n",
       "        [ 7.03961456]]), array([[-0.81676856],\n",
       "        [-2.89740078],\n",
       "        [ 7.38670449]]), array([[ 1.73608675],\n",
       "        [-2.55355726],\n",
       "        [ 5.16969253]]), array([[-6.36082516],\n",
       "        [-2.36304949],\n",
       "        [ 4.37948309]]), array([[-4.8598445 ],\n",
       "        [-1.75091413],\n",
       "        [ 3.77899922]]), array([[-5.21587049],\n",
       "        [-1.52372382],\n",
       "        [ 4.59202891]]), array([[-4.00320999],\n",
       "        [-1.68605015],\n",
       "        [ 2.96025013]]), array([[-2.60215458],\n",
       "        [-1.38173399],\n",
       "        [ 2.61812668]]), array([[-3.77082973],\n",
       "        [-1.91823359],\n",
       "        [ 3.79832091]]), array([[-3.82396398],\n",
       "        [-2.51740615],\n",
       "        [ 3.33258783]]), array([[-4.67776441],\n",
       "        [-1.97548441],\n",
       "        [ 3.59720008]]), array([[-1.56716541],\n",
       "        [-1.22750588],\n",
       "        [ 2.04174128]]), array([[-4.67035784],\n",
       "        [-1.72784085],\n",
       "        [ 3.64269782]]), array([[-3.46267257],\n",
       "        [-1.51165224],\n",
       "        [ 2.75486061]]), array([[-4.28067849],\n",
       "        [-1.80972124],\n",
       "        [ 3.10611276]]), array([[-3.55941234],\n",
       "        [-1.59516098],\n",
       "        [ 3.60834457]]), array([[-2.37787056],\n",
       "        [-1.73886589],\n",
       "        [ 2.93793347]]), array([[-3.22564484],\n",
       "        [-1.93417243],\n",
       "        [ 2.59690115]]), array([[-3.93728809],\n",
       "        [-1.97296042],\n",
       "        [ 4.3162024 ]]), array([[-4.11169365],\n",
       "        [-2.24948886],\n",
       "        [ 4.15588448]]), array([[-3.49223701],\n",
       "        [-2.20985667],\n",
       "        [ 2.26974134]]), array([[ 2.2981163 ],\n",
       "        [-4.60147465],\n",
       "        [15.12442065]]), array([[-15.66341796],\n",
       "        [ -2.01410074],\n",
       "        [ 22.91381447]]), array([[-1.58424599],\n",
       "        [-0.66527056],\n",
       "        [13.83019347]]), array([[-1.95182949],\n",
       "        [ 0.41786712],\n",
       "        [12.02838403]]), array([[-7.53508999],\n",
       "        [-0.32582242],\n",
       "        [16.92724979]])]"
      ]
     },
     "execution_count": 119,
     "metadata": {},
     "output_type": "execute_result"
    }
   ],
   "source": [
    "tvecs"
   ]
  },
  {
   "cell_type": "code",
   "execution_count": 142,
   "metadata": {},
   "outputs": [],
   "source": [
    "images_1 = glob.glob(\"*.jpg\")"
   ]
  },
  {
   "cell_type": "code",
   "execution_count": 143,
   "metadata": {},
   "outputs": [],
   "source": [
    "i=0\n",
    "for pic in images_1:\n",
    "    img = cv2.imread(pic)\n",
    "    #As Opencv always load an image in 3c mode\n",
    "    gray = cv2.cvtColor(img, cv2.COLOR_BGR2GRAY)\n",
    "    #we are looking are 8*6 pattern that is measured from (left to right and top to bottom)\n",
    "    ret, corners = cv2.findChessboardCorners(gray,(8,6),None)\n",
    "    if ret==True:\n",
    "    #using camera matrix and distortion coefficients and undistort function\n",
    "      dst = cv2.undistort(img,mtx,dist,None,None)\n",
    "      i=i+1\n",
    "      cv2.imwrite('undis-images/'+str(i)+'.png',dst)\n",
    "      "
   ]
  },
  {
   "cell_type": "code",
   "execution_count": null,
   "metadata": {},
   "outputs": [],
   "source": []
  }
 ],
 "metadata": {
  "kernelspec": {
   "display_name": "Python 3",
   "language": "python",
   "name": "python3"
  },
  "language_info": {
   "codemirror_mode": {
    "name": "ipython",
    "version": 3
   },
   "file_extension": ".py",
   "mimetype": "text/x-python",
   "name": "python",
   "nbconvert_exporter": "python",
   "pygments_lexer": "ipython3",
   "version": "3.6.5"
  }
 },
 "nbformat": 4,
 "nbformat_minor": 2
}
